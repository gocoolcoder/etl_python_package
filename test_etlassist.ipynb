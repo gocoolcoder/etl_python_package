{
 "cells": [
  {
   "cell_type": "code",
   "execution_count": 6,
   "id": "56f84495",
   "metadata": {},
   "outputs": [],
   "source": [
    "from etlassist import xml_generator"
   ]
  },
  {
   "cell_type": "code",
   "execution_count": 7,
   "id": "82a08d14",
   "metadata": {},
   "outputs": [],
   "source": [
    "config = [\n",
    "    {\n",
    "        \"identifier\": \"originFacility\",\n",
    "        \"value\": \"from\",\n",
    "        \"type\": \"refer\",\n",
    "        \"property\": \"string\",\n",
    "        \"mandatory\": \"0\"\n",
    "    },\n",
    "    {\n",
    "        \"identifier\": \"destinationFacility\",\n",
    "        \"value\": \"to\",\n",
    "        \"type\": \"refer\",\n",
    "        \"property\": \"string\",\n",
    "        \"mandatory\": \"1\"\n",
    "    },\n",
    "    {\n",
    "        \"identifier\": \"originType\",\n",
    "        \"value\": \"W\",\n",
    "        \"type\": \"default\",\n",
    "        \"property\": \"string\",\n",
    "        \"mandatory\": \"0\"\n",
    "    },\n",
    "    {\n",
    "        \"identifier\": \"Carton\",\n",
    "        \"value\": \"cartons\",\n",
    "        \"type\": \"iterate\",\n",
    "        \"property\": \"list\",\n",
    "        \"mandatory\": \"0\",\n",
    "        \"config\": [\n",
    "            {\n",
    "                \"identifier\": \"CartonNbr\",\n",
    "                \"value\": \"carton_nbr\",\n",
    "                \"type\": \"refer\",\n",
    "                \"property\": \"string\",\n",
    "                \"mandatory\": \"1\"\n",
    "            },\n",
    "            {\n",
    "                \"identifier\": \"CartonType\",\n",
    "                \"value\": \"carton_type\",\n",
    "                \"type\": \"refer\",\n",
    "                \"property\": \"string\",\n",
    "                \"mandatory\": \"1\"\n",
    "            },\n",
    "            {\n",
    "                \"identifier\": \"Item\",\n",
    "                \"value\": \"CARRYFORWARD\",\n",
    "                \"type\": \"iterate\",\n",
    "                \"property\": \"list\",\n",
    "                \"mandatory\": \"0\",\n",
    "                \"config\": [\n",
    "                    {\n",
    "                        \"identifier\": \"ItemNbr\",\n",
    "                        \"value\": \"item_no\",\n",
    "                        \"type\": \"refer\",\n",
    "                        \"property\": \"string\",\n",
    "                        \"mandatory\": \"1\"\n",
    "                    },\n",
    "                    {\n",
    "                        \"identifier\": \"Qty\",\n",
    "                        \"value\": \"quantity\",\n",
    "                        \"type\": \"refer\",\n",
    "                        \"property\": \"string\",\n",
    "                        \"mandatory\": \"1\"\n",
    "                    }\n",
    "                ]\n",
    "            }\n",
    "        ]\n",
    "    }\n",
    "]"
   ]
  },
  {
   "cell_type": "code",
   "execution_count": 8,
   "id": "bf0c0481",
   "metadata": {},
   "outputs": [],
   "source": [
    "data = {\n",
    "  \"from\" : \"2345\",\n",
    "  \"to\" : \"1999\",\n",
    "  \"cartons\" : [\n",
    "    {\n",
    "      \"carton_nbr\" : \"1234567\",\n",
    "      \"carton_type\" : \"BULK\",\n",
    "      \"item_no\" : \"23123\",\n",
    "      \"quantity\" : 78\n",
    "    }\n",
    "  ]\n",
    "}"
   ]
  },
  {
   "cell_type": "code",
   "execution_count": 9,
   "id": "79fb8de2",
   "metadata": {},
   "outputs": [
    {
     "data": {
      "text/plain": [
       "'<ASNOutDesc xmlns:xsi=\"http://www.w3.org/2001/XMLSchema-instance\" xmlns=\"http://www.oracle.com/retail/integration/base/bo/ASNOutDesc/v1\" xsi:schemaLocation=\"http://www.oracle.com/retail/integration/base/bo/ASNOutDesc/v1 http://www.oracle.com/retail/integration/base/bo/ASNOutDesc/v1/ASNOutDesc.xsd\">\\n  <originFacility>2345</originFacility>\\n  <destinationFacility>1999</destinationFacility>\\n  <originType>W</originType>\\n  <Carton>\\n    <CartonNbr>1234567</CartonNbr>\\n    <CartonType>BULK</CartonType>\\n    <Item>\\n      <ItemNbr>23123</ItemNbr>\\n      <Qty>78</Qty>\\n    </Item>\\n  </Carton>\\n</ASNOutDesc>\\n'"
      ]
     },
     "execution_count": 9,
     "metadata": {},
     "output_type": "execute_result"
    }
   ],
   "source": [
    "xml_generator.create_xml(config,data,tags)"
   ]
  },
  {
   "cell_type": "code",
   "execution_count": null,
   "id": "f183de07",
   "metadata": {},
   "outputs": [],
   "source": []
  }
 ],
 "metadata": {
  "kernelspec": {
   "display_name": "Python 3 (ipykernel)",
   "language": "python",
   "name": "python3"
  },
  "language_info": {
   "codemirror_mode": {
    "name": "ipython",
    "version": 3
   },
   "file_extension": ".py",
   "mimetype": "text/x-python",
   "name": "python",
   "nbconvert_exporter": "python",
   "pygments_lexer": "ipython3",
   "version": "3.11.5"
  }
 },
 "nbformat": 4,
 "nbformat_minor": 5
}
