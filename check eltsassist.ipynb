{
 "cells": [
  {
   "cell_type": "code",
   "execution_count": 1,
   "id": "09d1d835",
   "metadata": {},
   "outputs": [],
   "source": [
    "from etlassist import xml_generator"
   ]
  },
  {
   "cell_type": "code",
   "execution_count": 2,
   "id": "bd3870a3",
   "metadata": {},
   "outputs": [],
   "source": [
    "config = [\n",
    "    {\n",
    "        \"identifier\": \"originFacility\",\n",
    "        \"value\": \"from\",\n",
    "        \"type\": \"refer\",\n",
    "        \"property\": \"string\",\n",
    "        \"mandatory\": \"0\"\n",
    "    },\n",
    "    {\n",
    "        \"identifier\": \"destinationFacility\",\n",
    "        \"value\": \"to\",\n",
    "        \"type\": \"refer\",\n",
    "        \"property\": \"string\",\n",
    "        \"mandatory\": \"1\"\n",
    "    },\n",
    "    {\n",
    "        \"identifier\": \"originType\",\n",
    "        \"value\": \"W\",\n",
    "        \"type\": \"default\",\n",
    "        \"property\": \"string\",\n",
    "        \"mandatory\": \"0\"\n",
    "    },\n",
    "    {\n",
    "        \"identifier\": \"Carton\",\n",
    "        \"value\": \"cartons\",\n",
    "        \"type\": \"iterate\",\n",
    "        \"property\": \"list\",\n",
    "        \"mandatory\": \"0\",\n",
    "        \"config\": [\n",
    "            {\n",
    "                \"identifier\": \"CartonNbr\",\n",
    "                \"value\": \"carton_nbr\",\n",
    "                \"type\": \"refer\",\n",
    "                \"property\": \"string\",\n",
    "                \"mandatory\": \"1\"\n",
    "            },\n",
    "            {\n",
    "                \"identifier\": \"CartonType\",\n",
    "                \"value\": \"carton_type\",\n",
    "                \"type\": \"refer\",\n",
    "                \"property\": \"string\",\n",
    "                \"mandatory\": \"1\"\n",
    "            },\n",
    "            {\n",
    "                \"identifier\": \"Item\",\n",
    "                \"value\": \"CARRYFORWARD\",\n",
    "                \"type\": \"iterate\",\n",
    "                \"property\": \"list\",\n",
    "                \"mandatory\": \"0\",\n",
    "                \"config\": [\n",
    "                    {\n",
    "                        \"identifier\": \"ItemNbr\",\n",
    "                        \"value\": \"item_no\",\n",
    "                        \"type\": \"refer\",\n",
    "                        \"property\": \"string\",\n",
    "                        \"mandatory\": \"1\"\n",
    "                    },\n",
    "                    {\n",
    "                        \"identifier\": \"Qty\",\n",
    "                        \"value\": \"quantity\",\n",
    "                        \"type\": \"refer\",\n",
    "                        \"property\": \"string\",\n",
    "                        \"mandatory\": \"1\"\n",
    "                    }\n",
    "                ]\n",
    "            }\n",
    "        ]\n",
    "    }\n",
    "]\n",
    "\n",
    "# COMMAND ----------\n",
    "\n",
    "data = {\n",
    "  \"from\" : \"2345\",\n",
    "  \"to\" : \"1999\",\n",
    "  \"cartons\" : [\n",
    "    {\n",
    "      \"carton_nbr\" : \"1234567\",\n",
    "      \"carton_type\" : \"BULK\",\n",
    "      \"item_no\" : \"23123\",\n",
    "      \"quantity\" : 78\n",
    "    }\n",
    "  ]\n",
    "}"
   ]
  },
  {
   "cell_type": "code",
   "execution_count": 6,
   "id": "9a74ca42",
   "metadata": {},
   "outputs": [],
   "source": [
    "tags = {\n",
    "  \"root\": \"ASNOutDesc\",\n",
    "  \"attr_qname\" : [\"http://www.w3.org/2001/XMLSchema-instance\", \"schemaLocation\"],\n",
    "  \"namespaces\": { \n",
    "    \"xsi\" : \"http://www.w3.org/2001/XMLSchema-instance\" ,\n",
    "    None : \"http://www.oracle.com/retail/integration/base/bo/ASNOutDesc/v1\"   \n",
    "  },\n",
    "  \"attr_qname_val\" : \"http://www.oracle.com/retail/integration/base/bo/ASNOutDesc/v1 http://www.oracle.com/retail/integration/base/bo/ASNOutDesc/v1/ASNOutDesc.xsd\"\n",
    "}"
   ]
  },
  {
   "cell_type": "code",
   "execution_count": 7,
   "id": "b069ac7e",
   "metadata": {},
   "outputs": [
    {
     "data": {
      "text/plain": [
       "\"name 'tags' is not defined\""
      ]
     },
     "execution_count": 7,
     "metadata": {},
     "output_type": "execute_result"
    }
   ],
   "source": [
    "xml_generator.create_xml(config,data,tags)"
   ]
  },
  {
   "cell_type": "code",
   "execution_count": null,
   "id": "42c6fc4b",
   "metadata": {},
   "outputs": [],
   "source": []
  }
 ],
 "metadata": {
  "kernelspec": {
   "display_name": "Python 3 (ipykernel)",
   "language": "python",
   "name": "python3"
  },
  "language_info": {
   "codemirror_mode": {
    "name": "ipython",
    "version": 3
   },
   "file_extension": ".py",
   "mimetype": "text/x-python",
   "name": "python",
   "nbconvert_exporter": "python",
   "pygments_lexer": "ipython3",
   "version": "3.11.5"
  }
 },
 "nbformat": 4,
 "nbformat_minor": 5
}
